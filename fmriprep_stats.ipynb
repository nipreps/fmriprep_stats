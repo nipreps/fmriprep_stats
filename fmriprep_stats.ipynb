{
 "cells": [
  {
   "cell_type": "code",
   "execution_count": 10,
   "metadata": {},
   "outputs": [],
   "source": [
    "import os\n",
    "import json, urllib, requests\n",
    "import numpy as np\n",
    "import pandas as pd\n",
    "import datetime\n",
    "import seaborn as sns\n",
    "import pylab as plt\n",
    "import matplotlib.dates as mdates\n",
    "from pandas.io.json import json_normalize\n",
    "epoch = datetime.datetime.utcfromtimestamp(0)\n",
    "def unix_time_millis(dt):\n",
    "    return int((dt - epoch).total_seconds() * 1000.0)"
   ]
  },
  {
   "cell_type": "markdown",
   "metadata": {},
   "source": [
    "## Getting all events for a release"
   ]
  },
  {
   "cell_type": "code",
   "execution_count": 11,
   "metadata": {
    "scrolled": true
   },
   "outputs": [],
   "source": [
    "def get_events(issue_id, token, days=90, limit=None):\n",
    "    cutoff_cursor = unix_time_millis(datetime.datetime.now() - datetime.timedelta(days=days))\n",
    "    \n",
    "    all_events = []\n",
    "    results = True\n",
    "    url = f\"https://sentry.io/api/0/issues/{issue_id}/events/?query=\"\n",
    "    counter = 0\n",
    "    while limit is None or counter < limit:\n",
    "        r = requests.get(url, \n",
    "                         headers={'Authorization': 'Bearer %s' % token})\n",
    "        \n",
    "        try:\n",
    "            events_json = r.json()\n",
    "        except:\n",
    "            print(r)\n",
    "            raise\n",
    "            \n",
    "        for event in events_json:\n",
    "            for tag in event['tags']:\n",
    "                if tag['key'] == 'environment' and tag['value'] in ('prod', ):\n",
    "                    all_events.append(event)\n",
    "                    print(\".\", end=\"\")\n",
    "        cursor = r.headers['Link'].split(',')[1].split(';')[3].split('=')[1].replace('\"', '')\n",
    "        results_str = r.headers['Link'].split(',')[1].split(';')[2].split('=')[1].replace('\"', '')\n",
    "        results = results_str.strip() == 'true'\n",
    "        new_url = f\"https://sentry.io/api/0/issues/{issue_id}/events/?cursor={cursor}&query=\"\n",
    "        if not results:\n",
    "            break\n",
    "        url = new_url\n",
    "        counter += 1\n",
    "        \n",
    "    for e in all_events:\n",
    "        e['tags'] = dict([(a['key'], a['value']) for a in e['tags']])\n",
    "    \n",
    "    all_events_df = json_normalize(all_events)\n",
    "    \n",
    "    all_events_df.dateCreated = pd.to_datetime(all_events_df.dateCreated)\n",
    "    \n",
    "    all_events_df['date_minus_time'] = all_events_df[\"dateCreated\"].apply( lambda df : datetime.datetime(year=df.year, month=df.month, day=df.day))\n",
    "    all_events_df['date_minus_time'] = all_events_df['date_minus_time'] - pd.to_timedelta(7, unit='d')\n",
    "    all_events_df.set_index(all_events_df[\"date_minus_time\"], inplace=True)\n",
    "    \n",
    "    return all_events_df"
   ]
  },
  {
   "cell_type": "code",
   "execution_count": null,
   "metadata": {},
   "outputs": [
    {
     "name": "stdout",
     "output_type": "stream",
     "text": [
      "............................................................................................................................................................................................................................................................................................................................................................................................................................................................................................................................................................................................................................................................................................................................................................................................................................................................................................................................................................................................................................................................................................................................................................................................................................................................................................................................................................................................................................................................................................................................................................................................................................................................................................................................................................................................................................................................................................................................................................................"
     ]
    }
   ],
   "source": [
    "all_successful_events_df = get_events(\"758615130\", os.environ['SENTRY_TOKEN'])"
   ]
  },
  {
   "cell_type": "code",
   "execution_count": null,
   "metadata": {},
   "outputs": [],
   "source": [
    "all_successful_events_df.to_csv('20221206_success.tsv', sep='\\t', index=None)"
   ]
  },
  {
   "cell_type": "code",
   "execution_count": null,
   "metadata": {},
   "outputs": [],
   "source": [
    "all_started_events_df = get_events(\"540334560\", os.environ['SENTRY_TOKEN'])"
   ]
  },
  {
   "cell_type": "code",
   "execution_count": null,
   "metadata": {},
   "outputs": [],
   "source": [
    "all_started_events_df.to_csv('20221206_started.tsv', sep='\\t', index=None)"
   ]
  },
  {
   "cell_type": "code",
   "execution_count": null,
   "metadata": {},
   "outputs": [],
   "source": [
    "all_failed_events_df = get_events('848853674', os.environ['SENTRY_TOKEN'])"
   ]
  },
  {
   "cell_type": "code",
   "execution_count": null,
   "metadata": {},
   "outputs": [],
   "source": [
    "no_disk_events_df = get_events('767302904', os.environ['SENTRY_TOKEN'])"
   ]
  },
  {
   "cell_type": "code",
   "execution_count": null,
   "metadata": {},
   "outputs": [],
   "source": [
    "sigkill_events_df = get_events('854282951', os.environ['SENTRY_TOKEN'])"
   ]
  },
  {
   "cell_type": "markdown",
   "metadata": {},
   "source": [
    "## Filtering dataframes"
   ]
  },
  {
   "cell_type": "code",
   "execution_count": null,
   "metadata": {},
   "outputs": [],
   "source": [
    "unique_success = all_successful_events_df.drop_duplicates(subset=['tags.run_uuid'])\n",
    "unique_started = all_started_events_df.drop_duplicates(subset=['tags.run_uuid'])\n",
    "unique_started_success = unique_success.loc[unique_success['tags.run_uuid'].isin(unique_started['tags.run_uuid'])]\n",
    "\n",
    "versions = sorted(unique_started['tags.release'].unique())[-12:]"
   ]
  },
  {
   "cell_type": "code",
   "execution_count": null,
   "metadata": {},
   "outputs": [],
   "source": [
    "group_success = unique_success.groupby([unique_success['date_minus_time'].dt.year, unique_success['date_minus_time'].dt.week])['id'].count()\n",
    "grouped_started = unique_started.groupby([unique_started['date_minus_time'].dt.year, unique_started['date_minus_time'].dt.week])['id'].count()\n",
    "grouped_started_success = unique_started_success.groupby([unique_started_success['date_minus_time'].dt.year, unique_started_success['date_minus_time'].dt.week])['id'].count()"
   ]
  },
  {
   "cell_type": "code",
   "execution_count": null,
   "metadata": {},
   "outputs": [],
   "source": [
    "versions_success = {}\n",
    "versions_started = {}\n",
    "\n",
    "for version in versions:\n",
    "    ver_suc = unique_started_success[unique_started_success['tags.release'] == version]\n",
    "    ver_sta = unique_started[unique_started['tags.release'] == version]\n",
    "    \n",
    "    versions_success[version] = ver_suc.groupby([ver_suc['date_minus_time'].dt.year, ver_suc['date_minus_time'].dt.week])['id'].count()\n",
    "    versions_started[version] = ver_sta.groupby([ver_sta['date_minus_time'].dt.year, ver_sta['date_minus_time'].dt.week])['id'].count()\n",
    "\n",
    "versions_success = pd.DataFrame(versions_success)\n",
    "versions_started = pd.DataFrame(versions_started)\n"
   ]
  },
  {
   "cell_type": "markdown",
   "metadata": {},
   "source": [
    "## Successful runs per week"
   ]
  },
  {
   "cell_type": "code",
   "execution_count": null,
   "metadata": {},
   "outputs": [],
   "source": [
    "group_success.index"
   ]
  },
  {
   "cell_type": "code",
   "execution_count": null,
   "metadata": {},
   "outputs": [],
   "source": [
    "sns.set_style(\"whitegrid\")\n",
    "sns.set_context(\"poster\")\n",
    "fig,ax = plt.subplots(figsize=(10, 6))\n",
    "indexes = [f\"{w}\" for _, w in group_success.index[:-1]]\n",
    "ax.bar(indexes, group_success.values[:-1], width=0.8, label='Success')\n",
    "# ax.bar(indexes + 0.2, grouped_started_success.values[:-1], width=0.4,\n",
    "#        label='Started+Success')\n",
    "\n",
    "plt.ylabel(\"Number of successful runs\")\n",
    "plt.xlabel(\"Week of year (2020-2021)\")\n",
    "plt.title(\"Successful fMRIPrep runs per week (all versions)\")\n",
    "sns.despine(left=True)\n",
    "plt.legend(bbox_to_anchor=(1, 1), title='Events');\n",
    "plt.savefig('20221206_successful_weekly_abs.png', dpi=300, bbox_inches='tight')"
   ]
  },
  {
   "cell_type": "code",
   "execution_count": null,
   "metadata": {},
   "outputs": [],
   "source": [
    "fig,ax = plt.subplots(figsize=(10, 6))\n",
    "indexes = [f\"{w}\" for _, w in grouped_started.index[:-1]]\n",
    "ax.bar(indexes, grouped_started.values[:-1], width=0.8, label='Success')\n",
    "# ax.bar(indexes + 0.2, grouped_started_success.values[:-1], width=0.4,\n",
    "#        label='Started+Success')\n",
    "\n",
    "plt.ylabel(\"Number of executions\")\n",
    "plt.xlabel(\"Week of year (2020)\")\n",
    "plt.title(\"Initiated fMRIPrep runs per week (all versions)\")\n",
    "sns.despine(left=True)\n",
    "plt.legend(bbox_to_anchor=(1, 1), title='Events');\n",
    "plt.savefig('20221206_all_weekly_abs.png', dpi=300, bbox_inches='tight')"
   ]
  },
  {
   "cell_type": "code",
   "execution_count": null,
   "metadata": {},
   "outputs": [],
   "source": [
    "sns.set_style(\"whitegrid\")\n",
    "fig,ax = plt.subplots(figsize=(15, 6))\n",
    "ax.bar(indexes, (grouped_started_success.values[:-1] / grouped_started.values[:-1]) * 100,\n",
    "       width=0.9, label='Success')\n",
    "\n",
    "plt.ylabel(\"Percentage of successful runs\")\n",
    "plt.xlabel(\"Week of year (2020-2021)\")\n",
    "plt.title(\"Successful fMRIPrep runs per week (all versions)\")\n",
    "ax.set_ylim((0,100))\n",
    "sns.despine(left=True)\n",
    "plt.legend(bbox_to_anchor=(1, 1), title='Events');\n",
    "plt.savefig('20221206_successful_weekly_rel.png', dpi=300, bbox_inches='tight')"
   ]
  },
  {
   "cell_type": "code",
   "execution_count": null,
   "metadata": {},
   "outputs": [],
   "source": [
    "fig,ax = plt.subplots(figsize=(16,6))\n",
    "ax = versions_success.plot.bar(stacked=True, ax=ax)\n",
    "\n",
    "sns.despine(left=True)\n",
    "plt.ylabel(\"Number of successful runs, broken by version\")\n",
    "plt.xlabel(\"Week of year\")\n",
    "plt.title(\"fMRIPrep successful runs per week\")\n",
    "plt.legend(bbox_to_anchor=(1, 1));\n",
    "plt.savefig('20221206_version_successful_weekly_abs.png', dpi=300, bbox_inches='tight')"
   ]
  },
  {
   "cell_type": "code",
   "execution_count": null,
   "metadata": {},
   "outputs": [],
   "source": [
    "fig,ax = plt.subplots(figsize=(16,6))\n",
    "ax = ((versions_success.T / versions_started.sum(axis=1)).T * 100).plot.bar(stacked=True, ax=ax)\n",
    "\n",
    "sns.despine(left=True)\n",
    "ax.set_ylim((0,100))\n",
    "plt.ylabel(\"Percentage of total successful runs, broken by version\")\n",
    "plt.xlabel(\"Week of year\")\n",
    "plt.title(\"fMRIPrep successful runs per week\")\n",
    "plt.legend(bbox_to_anchor=(1, 1));\n",
    "plt.savefig('20221206_version_successful_weekly_rel_total.png', dpi=300, bbox_inches='tight')"
   ]
  },
  {
   "cell_type": "code",
   "execution_count": null,
   "metadata": {},
   "outputs": [],
   "source": [
    "fig,ax = plt.subplots(figsize=(16,6))\n",
    "ax = ((versions_success.sum(axis=0) / versions_started.sum(axis=0)) * 100).plot.bar(ax=ax, width=1.0)\n",
    "\n",
    "sns.despine(left=True)\n",
    "ax.set_ylim((0,100))\n",
    "\n",
    "plt.ylabel(\"Percentage of total successful runs, broken by version\")\n",
    "plt.xlabel(\"Week of year\")\n",
    "plt.title(\"fMRIPrep successful runs per week\")\n",
    "plt.legend(bbox_to_anchor=(1, 1));\n",
    "plt.savefig('20221206_version_successful_weekly_rel_broken.png', dpi=300, bbox_inches='tight')"
   ]
  },
  {
   "cell_type": "code",
   "execution_count": null,
   "metadata": {},
   "outputs": [],
   "source": [
    "versions_success.sum(axis=0)"
   ]
  },
  {
   "cell_type": "code",
   "execution_count": null,
   "metadata": {},
   "outputs": [],
   "source": [
    "versions_started.sum(axis=0)"
   ]
  },
  {
   "cell_type": "code",
   "execution_count": null,
   "metadata": {},
   "outputs": [],
   "source": []
  },
  {
   "cell_type": "code",
   "execution_count": null,
   "metadata": {},
   "outputs": [],
   "source": []
  }
 ],
 "metadata": {
  "kernelspec": {
   "display_name": "Python 3",
   "language": "python",
   "name": "python3"
  },
  "language_info": {
   "codemirror_mode": {
    "name": "ipython",
    "version": 3
   },
   "file_extension": ".py",
   "mimetype": "text/x-python",
   "name": "python",
   "nbconvert_exporter": "python",
   "pygments_lexer": "ipython3",
   "version": "3.7.6"
  }
 },
 "nbformat": 4,
 "nbformat_minor": 2
}
