{
 "cells": [
  {
   "cell_type": "code",
   "execution_count": null,
   "metadata": {},
   "outputs": [],
   "source": [
    "from pathlib import Path\n",
    "import pandas as pd\n",
    "from matplotlib import pylab as plt\n",
    "from pymongo import MongoClient"
   ]
  },
  {
   "cell_type": "markdown",
   "metadata": {},
   "source": [
    "# Load data\n",
    "Step 0 is pulling events with the Sentry API"
   ]
  },
  {
   "cell_type": "code",
   "execution_count": null,
   "metadata": {},
   "outputs": [],
   "source": [
    "db = MongoClient().fmriprep_stats\n",
    "all_started_events_df = pd.DataFrame(list(db.started.find()))"
   ]
  },
  {
   "cell_type": "code",
   "execution_count": null,
   "metadata": {},
   "outputs": [],
   "source": [
    "set(all_started_events_df[\"environment_version\"].values)"
   ]
  },
  {
   "cell_type": "markdown",
   "metadata": {},
   "source": [
    "## Filtering dataframes"
   ]
  },
  {
   "cell_type": "code",
   "execution_count": null,
   "metadata": {},
   "outputs": [],
   "source": [
    "unique_started = all_started_events_df.drop_duplicates(subset=['run_uuid'])\n",
    "unique_success = all_successful_events_df.drop_duplicates(subset=['tags.run_uuid'])\n",
    "unique_started_success = unique_success.loc[unique_success['run_uuid'].isin(unique_started['tags.run_uuid'])]\n",
    "\n",
    "versions = sorted(unique_started[\"environment_version\"].unique())[-12:]"
   ]
  },
  {
   "cell_type": "code",
   "execution_count": null,
   "metadata": {},
   "outputs": [],
   "source": [
    "    # all_events_df.dateCreated = pd.to_datetime(all_events_df.dateCreated)\n",
    "\n",
    "    # all_events_df[\"date_minus_time\"] = all_events_df[\"dateCreated\"].apply(\n",
    "    #     lambda df: datetime.datetime(year=df.year, month=df.month, day=df.day)\n",
    "    # )\n",
    "    # all_events_df[\"date_minus_time\"] = all_events_df[\n",
    "    #     \"date_minus_time\"\n",
    "    # ] - pd.to_timedelta(7, unit=\"d\")\n",
    "    # all_events_df.set_index(all_events_df[\"date_minus_time\"], inplace=True)"
   ]
  },
  {
   "cell_type": "code",
   "execution_count": null,
   "metadata": {},
   "outputs": [],
   "source": [
    "versions"
   ]
  },
  {
   "cell_type": "code",
   "execution_count": null,
   "metadata": {},
   "outputs": [],
   "source": [
    "group_success = unique_success.groupby([unique_success['date_minus_time'].dt.year, unique_success['date_minus_time'].dt.week])['id'].count()\n",
    "grouped_started = unique_started.groupby([unique_started['date_minus_time'].dt.year, unique_started['date_minus_time'].dt.week])['id'].count()\n",
    "grouped_started_success = unique_started_success.groupby([unique_started_success['date_minus_time'].dt.year, unique_started_success['date_minus_time'].dt.week])['id'].count()"
   ]
  },
  {
   "cell_type": "code",
   "execution_count": null,
   "metadata": {},
   "outputs": [],
   "source": [
    "versions_success = {}\n",
    "versions_started = {}\n",
    "\n",
    "for version in versions:\n",
    "    ver_suc = unique_started_success[unique_started_success['tags.release'] == version]\n",
    "    ver_sta = unique_started[unique_started['tags.release'] == version]\n",
    "    \n",
    "    versions_success[version] = ver_suc.groupby([ver_suc['date_minus_time'].dt.year, ver_suc['date_minus_time'].dt.week])['id'].count()\n",
    "    versions_started[version] = ver_sta.groupby([ver_sta['date_minus_time'].dt.year, ver_sta['date_minus_time'].dt.week])['id'].count()\n",
    "\n",
    "versions_success = pd.DataFrame(versions_success)\n",
    "versions_started = pd.DataFrame(versions_started)\n"
   ]
  },
  {
   "cell_type": "markdown",
   "metadata": {},
   "source": [
    "## Successful runs per week"
   ]
  },
  {
   "cell_type": "code",
   "execution_count": null,
   "metadata": {},
   "outputs": [],
   "source": [
    "group_success.index"
   ]
  },
  {
   "cell_type": "code",
   "execution_count": null,
   "metadata": {},
   "outputs": [],
   "source": [
    "sns.set_style(\"whitegrid\")\n",
    "sns.set_context(\"poster\")\n",
    "fig,ax = plt.subplots(figsize=(10, 6))\n",
    "indexes = [f\"{w}\" for _, w in group_success.index[:-1]]\n",
    "ax.bar(indexes, group_success.values[:-1], width=0.8, label='Success')\n",
    "# ax.bar(indexes + 0.2, grouped_started_success.values[:-1], width=0.4,\n",
    "#        label='Started+Success')\n",
    "\n",
    "plt.ylabel(\"Number of successful runs\")\n",
    "plt.xlabel(\"Week of year (2020-2021)\")\n",
    "plt.title(\"Successful fMRIPrep runs per week (all versions)\")\n",
    "sns.despine(left=True)\n",
    "plt.legend(bbox_to_anchor=(1, 1), title='Events');\n",
    "plt.savefig('20221206_successful_weekly_abs.png', dpi=300, bbox_inches='tight')"
   ]
  },
  {
   "cell_type": "code",
   "execution_count": null,
   "metadata": {},
   "outputs": [],
   "source": [
    "fig,ax = plt.subplots(figsize=(10, 6))\n",
    "indexes = [f\"{w}\" for _, w in grouped_started.index[:-1]]\n",
    "ax.bar(indexes, grouped_started.values[:-1], width=0.8, label='Success')\n",
    "# ax.bar(indexes + 0.2, grouped_started_success.values[:-1], width=0.4,\n",
    "#        label='Started+Success')\n",
    "\n",
    "plt.ylabel(\"Number of executions\")\n",
    "plt.xlabel(\"Week of year (2020)\")\n",
    "plt.title(\"Initiated fMRIPrep runs per week (all versions)\")\n",
    "sns.despine(left=True)\n",
    "plt.legend(bbox_to_anchor=(1, 1), title='Events');\n",
    "plt.savefig('20221206_all_weekly_abs.png', dpi=300, bbox_inches='tight')"
   ]
  },
  {
   "cell_type": "code",
   "execution_count": null,
   "metadata": {},
   "outputs": [],
   "source": [
    "sns.set_style(\"whitegrid\")\n",
    "fig,ax = plt.subplots(figsize=(15, 6))\n",
    "ax.bar(indexes, (grouped_started_success.values[:-1] / grouped_started.values[:-1]) * 100,\n",
    "       width=0.9, label='Success')\n",
    "\n",
    "plt.ylabel(\"Percentage of successful runs\")\n",
    "plt.xlabel(\"Week of year (2020-2021)\")\n",
    "plt.title(\"Successful fMRIPrep runs per week (all versions)\")\n",
    "ax.set_ylim((0,100))\n",
    "sns.despine(left=True)\n",
    "plt.legend(bbox_to_anchor=(1, 1), title='Events');\n",
    "plt.savefig('20221206_successful_weekly_rel.png', dpi=300, bbox_inches='tight')"
   ]
  },
  {
   "cell_type": "code",
   "execution_count": null,
   "metadata": {},
   "outputs": [],
   "source": [
    "fig,ax = plt.subplots(figsize=(16,6))\n",
    "ax = versions_success.plot.bar(stacked=True, ax=ax)\n",
    "\n",
    "sns.despine(left=True)\n",
    "plt.ylabel(\"Number of successful runs, broken by version\")\n",
    "plt.xlabel(\"Week of year\")\n",
    "plt.title(\"fMRIPrep successful runs per week\")\n",
    "plt.legend(bbox_to_anchor=(1, 1));\n",
    "plt.savefig('20221206_version_successful_weekly_abs.png', dpi=300, bbox_inches='tight')"
   ]
  },
  {
   "cell_type": "code",
   "execution_count": null,
   "metadata": {},
   "outputs": [],
   "source": [
    "fig,ax = plt.subplots(figsize=(16,6))\n",
    "ax = ((versions_success.T / versions_started.sum(axis=1)).T * 100).plot.bar(stacked=True, ax=ax)\n",
    "\n",
    "sns.despine(left=True)\n",
    "ax.set_ylim((0,100))\n",
    "plt.ylabel(\"Percentage of total successful runs, broken by version\")\n",
    "plt.xlabel(\"Week of year\")\n",
    "plt.title(\"fMRIPrep successful runs per week\")\n",
    "plt.legend(bbox_to_anchor=(1, 1));\n",
    "plt.savefig('20221206_version_successful_weekly_rel_total.png', dpi=300, bbox_inches='tight')"
   ]
  },
  {
   "cell_type": "code",
   "execution_count": null,
   "metadata": {},
   "outputs": [],
   "source": [
    "fig,ax = plt.subplots(figsize=(16,6))\n",
    "ax = ((versions_success.sum(axis=0) / versions_started.sum(axis=0)) * 100).plot.bar(ax=ax, width=1.0)\n",
    "\n",
    "sns.despine(left=True)\n",
    "ax.set_ylim((0,100))\n",
    "\n",
    "plt.ylabel(\"Percentage of total successful runs, broken by version\")\n",
    "plt.xlabel(\"Week of year\")\n",
    "plt.title(\"fMRIPrep successful runs per week\")\n",
    "plt.legend(bbox_to_anchor=(1, 1));\n",
    "plt.savefig('20221206_version_successful_weekly_rel_broken.png', dpi=300, bbox_inches='tight')"
   ]
  },
  {
   "cell_type": "code",
   "execution_count": null,
   "metadata": {},
   "outputs": [],
   "source": [
    "versions_success.sum(axis=0)"
   ]
  },
  {
   "cell_type": "code",
   "execution_count": null,
   "metadata": {},
   "outputs": [],
   "source": [
    "versions_started.sum(axis=0)"
   ]
  },
  {
   "cell_type": "code",
   "execution_count": null,
   "metadata": {},
   "outputs": [],
   "source": []
  },
  {
   "cell_type": "code",
   "execution_count": null,
   "metadata": {},
   "outputs": [],
   "source": []
  }
 ],
 "metadata": {
  "kernelspec": {
   "display_name": "Python 3 (ipykernel)",
   "language": "python",
   "name": "python3"
  },
  "language_info": {
   "codemirror_mode": {
    "name": "ipython",
    "version": 3
   },
   "file_extension": ".py",
   "mimetype": "text/x-python",
   "name": "python",
   "nbconvert_exporter": "python",
   "pygments_lexer": "ipython3",
   "version": "3.9.12"
  }
 },
 "nbformat": 4,
 "nbformat_minor": 2
}
